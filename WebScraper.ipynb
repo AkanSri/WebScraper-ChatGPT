{
 "cells": [
  {
   "cell_type": "code",
   "execution_count": 1,
   "metadata": {},
   "outputs": [],
   "source": [
    "#Imports\n",
    "import os\n",
    "from dotenv import load_dotenv\n",
    "import openai"
   ]
  },
  {
   "cell_type": "code",
   "execution_count": 2,
   "metadata": {},
   "outputs": [],
   "source": [
    "#Loads OpenAI's API Secret Key in .env file\n",
    "load_dotenv()\n",
    "openai.api_key = os.getenv(\"OPENAI_API_KEY\")"
   ]
  },
  {
   "cell_type": "code",
   "execution_count": 3,
   "metadata": {},
   "outputs": [],
   "source": [
    "#Generates the entire prompt based on input from user \n",
    "def generate_prompt(company,keyword):\n",
    "    return (os.getenv(\"PROMPT\")+company+\" Keywords: \"+ keyword)"
   ]
  },
  {
   "cell_type": "code",
   "execution_count": 10,
   "metadata": {},
   "outputs": [],
   "source": [
    "#Gather Inputs from user\n",
    "company = input(\"Please input the Companies you would like to inquire about: \")\n",
    "keyword = input(\"Please input the Keywords you would like to inquire about: \")"
   ]
  },
  {
   "cell_type": "code",
   "execution_count": 13,
   "metadata": {},
   "outputs": [],
   "source": [
    "#Calls out to OpenAI API and returns response of the call\n",
    "response = openai.Completion.create(\n",
    "            model=\"text-davinci-003\",\n",
    "            prompt=generate_prompt(company,keyword),\n",
    "            temperature=0.7,\n",
    "            max_tokens=256,\n",
    "            top_p=1,\n",
    "            frequency_penalty=0,\n",
    "            presence_penalty=0\n",
    "        )"
   ]
  },
  {
   "cell_type": "code",
   "execution_count": 14,
   "metadata": {},
   "outputs": [
    {
     "name": "stdout",
     "output_type": "stream",
     "text": [
      "\n",
      "\n",
      "Verizon\n",
      "\n",
      "Data\n",
      "1. Manager, Data Science\n",
      "2. Senior Software Engineer, Data Platform\n",
      "3. Senior Data Engineer\n",
      "\n",
      "Engineer\n",
      "1. Software Engineer\n",
      "2. Senior Network Engineer\n",
      "3. Senior Software Engineer\n",
      "\n",
      "Comcast\n",
      "\n",
      "Data\n",
      "1. Data Analyst\n",
      "2. Senior Data Scientist\n",
      "3. Senior Data Engineer\n",
      "\n",
      "Engineer\n",
      "1. Network Engineer\n",
      "2. Senior Software Engineer\n",
      "3. Senior Network Engineer\n"
     ]
    }
   ],
   "source": [
    "#Prints the response \n",
    "print(response[\"choices\"][0][\"text\"])"
   ]
  }
 ],
 "metadata": {
  "interpreter": {
   "hash": "31f2aee4e71d21fbe5cf8b01ff0e069b9275f58929596ceb00d14d90e3e16cd6"
  },
  "kernelspec": {
   "display_name": "Python 3 (ipykernel)",
   "language": "python",
   "name": "python3"
  },
  "language_info": {
   "codemirror_mode": {
    "name": "ipython",
    "version": 3
   },
   "file_extension": ".py",
   "mimetype": "text/x-python",
   "name": "python",
   "nbconvert_exporter": "python",
   "pygments_lexer": "ipython3",
   "version": "3.7.13"
  }
 },
 "nbformat": 4,
 "nbformat_minor": 2
}
